{
 "cells": [
  {
   "cell_type": "code",
   "execution_count": 2,
   "metadata": {},
   "outputs": [],
   "source": [
    "import pandas as pd\n",
    "import numpy as np\n",
    "\n",
    "import tensorflow\n",
    "from tensorflow import keras\n",
    "from keras import Sequential\n",
    "from keras.layers import Dense"
   ]
  },
  {
   "cell_type": "code",
   "execution_count": 3,
   "metadata": {},
   "outputs": [
    {
     "data": {
      "text/html": [
       "<div>\n",
       "<style scoped>\n",
       "    .dataframe tbody tr th:only-of-type {\n",
       "        vertical-align: middle;\n",
       "    }\n",
       "\n",
       "    .dataframe tbody tr th {\n",
       "        vertical-align: top;\n",
       "    }\n",
       "\n",
       "    .dataframe thead th {\n",
       "        text-align: right;\n",
       "    }\n",
       "</style>\n",
       "<table border=\"1\" class=\"dataframe\">\n",
       "  <thead>\n",
       "    <tr style=\"text-align: right;\">\n",
       "      <th></th>\n",
       "      <th>Age</th>\n",
       "      <th>EstimatedSalary</th>\n",
       "      <th>Purchased</th>\n",
       "    </tr>\n",
       "  </thead>\n",
       "  <tbody>\n",
       "    <tr>\n",
       "      <th>0</th>\n",
       "      <td>19</td>\n",
       "      <td>19000</td>\n",
       "      <td>0</td>\n",
       "    </tr>\n",
       "    <tr>\n",
       "      <th>1</th>\n",
       "      <td>35</td>\n",
       "      <td>20000</td>\n",
       "      <td>0</td>\n",
       "    </tr>\n",
       "    <tr>\n",
       "      <th>2</th>\n",
       "      <td>26</td>\n",
       "      <td>43000</td>\n",
       "      <td>0</td>\n",
       "    </tr>\n",
       "    <tr>\n",
       "      <th>3</th>\n",
       "      <td>27</td>\n",
       "      <td>57000</td>\n",
       "      <td>0</td>\n",
       "    </tr>\n",
       "    <tr>\n",
       "      <th>4</th>\n",
       "      <td>19</td>\n",
       "      <td>76000</td>\n",
       "      <td>0</td>\n",
       "    </tr>\n",
       "  </tbody>\n",
       "</table>\n",
       "</div>"
      ],
      "text/plain": [
       "   Age  EstimatedSalary  Purchased\n",
       "0   19            19000          0\n",
       "1   35            20000          0\n",
       "2   26            43000          0\n",
       "3   27            57000          0\n",
       "4   19            76000          0"
      ]
     },
     "execution_count": 3,
     "metadata": {},
     "output_type": "execute_result"
    }
   ],
   "source": [
    "# Load the dataset\n",
    "df = pd.read_csv('Social_Network_Ads.csv')\n",
    "df.head()"
   ]
  },
  {
   "cell_type": "code",
   "execution_count": 4,
   "metadata": {},
   "outputs": [],
   "source": [
    "# Do a test train split\n",
    "X = df.iloc[:, 0:2]\n",
    "y = df.iloc[:, -1]\n",
    "\n",
    "# Scale the data\n",
    "from sklearn.preprocessing import StandardScaler\n",
    "scaler = StandardScaler()\n",
    "\n",
    "X_scaled = scaler.fit_transform(X)\n",
    "\n",
    "# Test train split\n",
    "# from sklearn.model_selection import train_test_split\n",
    "# X_train, y_train, X_test, y_test = train_test_split(X_scaled, y, test_size=0.2, random_state=2)"
   ]
  },
  {
   "cell_type": "code",
   "execution_count": 5,
   "metadata": {},
   "outputs": [
    {
     "name": "stdout",
     "output_type": "stream",
     "text": [
      "Model: \"sequential\"\n",
      "_________________________________________________________________\n",
      " Layer (type)                Output Shape              Param #   \n",
      "=================================================================\n",
      " dense (Dense)               (None, 10)                30        \n",
      "                                                                 \n",
      " dense_1 (Dense)             (None, 10)                110       \n",
      "                                                                 \n",
      " dense_2 (Dense)             (None, 1)                 11        \n",
      "                                                                 \n",
      "=================================================================\n",
      "Total params: 151\n",
      "Trainable params: 151\n",
      "Non-trainable params: 0\n",
      "_________________________________________________________________\n"
     ]
    }
   ],
   "source": [
    "# Build a Neural Network model\n",
    "model = Sequential()\n",
    "model.add(Dense(10, activation='relu', input_dim=2))\n",
    "model.add(Dense(10, activation='relu'))\n",
    "model.add(Dense(1, activation='sigmoid'))\n",
    "\n",
    "model.summary()"
   ]
  },
  {
   "cell_type": "code",
   "execution_count": 20,
   "metadata": {},
   "outputs": [
    {
     "name": "stdout",
     "output_type": "stream",
     "text": [
      "Epoch 1/50\n",
      "1/1 [==============================] - 1s 869ms/step - loss: 0.1724 - accuracy: 0.9281 - val_loss: 0.2666 - val_accuracy: 0.8875\n",
      "Epoch 2/50\n",
      "1/1 [==============================] - 0s 29ms/step - loss: 0.1724 - accuracy: 0.9281 - val_loss: 0.2669 - val_accuracy: 0.9000\n",
      "Epoch 3/50\n",
      "1/1 [==============================] - 0s 26ms/step - loss: 0.1721 - accuracy: 0.9281 - val_loss: 0.2700 - val_accuracy: 0.8875\n",
      "Epoch 4/50\n",
      "1/1 [==============================] - 0s 28ms/step - loss: 0.1715 - accuracy: 0.9312 - val_loss: 0.2746 - val_accuracy: 0.8875\n",
      "Epoch 5/50\n",
      "1/1 [==============================] - 0s 29ms/step - loss: 0.1711 - accuracy: 0.9344 - val_loss: 0.2689 - val_accuracy: 0.8875\n",
      "Epoch 6/50\n",
      "1/1 [==============================] - 0s 30ms/step - loss: 0.1708 - accuracy: 0.9312 - val_loss: 0.2695 - val_accuracy: 0.8875\n",
      "Epoch 7/50\n",
      "1/1 [==============================] - 0s 35ms/step - loss: 0.1705 - accuracy: 0.9344 - val_loss: 0.2721 - val_accuracy: 0.8875\n",
      "Epoch 8/50\n",
      "1/1 [==============================] - 0s 43ms/step - loss: 0.1703 - accuracy: 0.9344 - val_loss: 0.2761 - val_accuracy: 0.8875\n",
      "Epoch 9/50\n",
      "1/1 [==============================] - 0s 35ms/step - loss: 0.1701 - accuracy: 0.9344 - val_loss: 0.2769 - val_accuracy: 0.8875\n",
      "Epoch 10/50\n",
      "1/1 [==============================] - 0s 30ms/step - loss: 0.1698 - accuracy: 0.9344 - val_loss: 0.2784 - val_accuracy: 0.8875\n",
      "Epoch 11/50\n",
      "1/1 [==============================] - 0s 25ms/step - loss: 0.1695 - accuracy: 0.9344 - val_loss: 0.2771 - val_accuracy: 0.8875\n",
      "Epoch 12/50\n",
      "1/1 [==============================] - 0s 34ms/step - loss: 0.1695 - accuracy: 0.9344 - val_loss: 0.2760 - val_accuracy: 0.8875\n",
      "Epoch 13/50\n",
      "1/1 [==============================] - 0s 27ms/step - loss: 0.1694 - accuracy: 0.9344 - val_loss: 0.2750 - val_accuracy: 0.8875\n",
      "Epoch 14/50\n",
      "1/1 [==============================] - 0s 26ms/step - loss: 0.1692 - accuracy: 0.9344 - val_loss: 0.2750 - val_accuracy: 0.8875\n",
      "Epoch 15/50\n",
      "1/1 [==============================] - 0s 30ms/step - loss: 0.1690 - accuracy: 0.9344 - val_loss: 0.2747 - val_accuracy: 0.8875\n",
      "Epoch 16/50\n",
      "1/1 [==============================] - 0s 26ms/step - loss: 0.1687 - accuracy: 0.9344 - val_loss: 0.2749 - val_accuracy: 0.8875\n",
      "Epoch 17/50\n",
      "1/1 [==============================] - 0s 29ms/step - loss: 0.1686 - accuracy: 0.9344 - val_loss: 0.2754 - val_accuracy: 0.8875\n",
      "Epoch 18/50\n",
      "1/1 [==============================] - 0s 26ms/step - loss: 0.1683 - accuracy: 0.9344 - val_loss: 0.2759 - val_accuracy: 0.8875\n",
      "Epoch 19/50\n",
      "1/1 [==============================] - 0s 34ms/step - loss: 0.1682 - accuracy: 0.9344 - val_loss: 0.2777 - val_accuracy: 0.8875\n",
      "Epoch 20/50\n",
      "1/1 [==============================] - 0s 26ms/step - loss: 0.1679 - accuracy: 0.9344 - val_loss: 0.2804 - val_accuracy: 0.8875\n",
      "Epoch 21/50\n",
      "1/1 [==============================] - 0s 26ms/step - loss: 0.1678 - accuracy: 0.9344 - val_loss: 0.2767 - val_accuracy: 0.8875\n",
      "Epoch 22/50\n",
      "1/1 [==============================] - 0s 28ms/step - loss: 0.1676 - accuracy: 0.9344 - val_loss: 0.2738 - val_accuracy: 0.8875\n",
      "Epoch 23/50\n",
      "1/1 [==============================] - 0s 25ms/step - loss: 0.1675 - accuracy: 0.9344 - val_loss: 0.2718 - val_accuracy: 0.8875\n",
      "Epoch 24/50\n",
      "1/1 [==============================] - 0s 28ms/step - loss: 0.1675 - accuracy: 0.9344 - val_loss: 0.2715 - val_accuracy: 0.8875\n",
      "Epoch 25/50\n",
      "1/1 [==============================] - 0s 32ms/step - loss: 0.1671 - accuracy: 0.9344 - val_loss: 0.2722 - val_accuracy: 0.8875\n",
      "Epoch 26/50\n",
      "1/1 [==============================] - 0s 26ms/step - loss: 0.1670 - accuracy: 0.9344 - val_loss: 0.2736 - val_accuracy: 0.8875\n",
      "Epoch 27/50\n",
      "1/1 [==============================] - 0s 28ms/step - loss: 0.1668 - accuracy: 0.9344 - val_loss: 0.2761 - val_accuracy: 0.8875\n",
      "Epoch 28/50\n",
      "1/1 [==============================] - 0s 27ms/step - loss: 0.1666 - accuracy: 0.9344 - val_loss: 0.2787 - val_accuracy: 0.8875\n",
      "Epoch 29/50\n",
      "1/1 [==============================] - 0s 32ms/step - loss: 0.1665 - accuracy: 0.9344 - val_loss: 0.2763 - val_accuracy: 0.8875\n",
      "Epoch 30/50\n",
      "1/1 [==============================] - 0s 34ms/step - loss: 0.1663 - accuracy: 0.9344 - val_loss: 0.2742 - val_accuracy: 0.8875\n",
      "Epoch 31/50\n",
      "1/1 [==============================] - 0s 28ms/step - loss: 0.1662 - accuracy: 0.9344 - val_loss: 0.2730 - val_accuracy: 0.8875\n",
      "Epoch 32/50\n",
      "1/1 [==============================] - 0s 27ms/step - loss: 0.1660 - accuracy: 0.9344 - val_loss: 0.2731 - val_accuracy: 0.8875\n",
      "Epoch 33/50\n",
      "1/1 [==============================] - 0s 32ms/step - loss: 0.1659 - accuracy: 0.9344 - val_loss: 0.2742 - val_accuracy: 0.8750\n",
      "Epoch 34/50\n",
      "1/1 [==============================] - 0s 32ms/step - loss: 0.1656 - accuracy: 0.9344 - val_loss: 0.2736 - val_accuracy: 0.8750\n",
      "Epoch 35/50\n",
      "1/1 [==============================] - 0s 30ms/step - loss: 0.1654 - accuracy: 0.9344 - val_loss: 0.2742 - val_accuracy: 0.8750\n",
      "Epoch 36/50\n",
      "1/1 [==============================] - 0s 27ms/step - loss: 0.1652 - accuracy: 0.9344 - val_loss: 0.2759 - val_accuracy: 0.8750\n",
      "Epoch 37/50\n",
      "1/1 [==============================] - 0s 28ms/step - loss: 0.1651 - accuracy: 0.9344 - val_loss: 0.2781 - val_accuracy: 0.8750\n",
      "Epoch 38/50\n",
      "1/1 [==============================] - 0s 40ms/step - loss: 0.1650 - accuracy: 0.9344 - val_loss: 0.2747 - val_accuracy: 0.8750\n",
      "Epoch 39/50\n",
      "1/1 [==============================] - 0s 34ms/step - loss: 0.1648 - accuracy: 0.9375 - val_loss: 0.2724 - val_accuracy: 0.8750\n",
      "Epoch 40/50\n",
      "1/1 [==============================] - 0s 30ms/step - loss: 0.1649 - accuracy: 0.9375 - val_loss: 0.2725 - val_accuracy: 0.8750\n",
      "Epoch 41/50\n",
      "1/1 [==============================] - 0s 29ms/step - loss: 0.1645 - accuracy: 0.9375 - val_loss: 0.2734 - val_accuracy: 0.8750\n",
      "Epoch 42/50\n",
      "1/1 [==============================] - 0s 26ms/step - loss: 0.1643 - accuracy: 0.9375 - val_loss: 0.2752 - val_accuracy: 0.8750\n",
      "Epoch 43/50\n",
      "1/1 [==============================] - 0s 33ms/step - loss: 0.1641 - accuracy: 0.9375 - val_loss: 0.2779 - val_accuracy: 0.8750\n",
      "Epoch 44/50\n",
      "1/1 [==============================] - 0s 32ms/step - loss: 0.1640 - accuracy: 0.9375 - val_loss: 0.2758 - val_accuracy: 0.8750\n",
      "Epoch 45/50\n",
      "1/1 [==============================] - 0s 27ms/step - loss: 0.1638 - accuracy: 0.9375 - val_loss: 0.2727 - val_accuracy: 0.8750\n",
      "Epoch 46/50\n",
      "1/1 [==============================] - 0s 27ms/step - loss: 0.1638 - accuracy: 0.9375 - val_loss: 0.2713 - val_accuracy: 0.8750\n",
      "Epoch 47/50\n",
      "1/1 [==============================] - 0s 28ms/step - loss: 0.1636 - accuracy: 0.9375 - val_loss: 0.2718 - val_accuracy: 0.8750\n",
      "Epoch 48/50\n",
      "1/1 [==============================] - 0s 37ms/step - loss: 0.1633 - accuracy: 0.9375 - val_loss: 0.2740 - val_accuracy: 0.8750\n",
      "Epoch 49/50\n",
      "1/1 [==============================] - 0s 27ms/step - loss: 0.1631 - accuracy: 0.9375 - val_loss: 0.2751 - val_accuracy: 0.8750\n",
      "Epoch 50/50\n",
      "1/1 [==============================] - 0s 28ms/step - loss: 0.1629 - accuracy: 0.9375 - val_loss: 0.2753 - val_accuracy: 0.8750\n"
     ]
    }
   ],
   "source": [
    "optimizer = keras.optimizers.Adam(learning_rate=0.01)\n",
    "model.compile(optimizer=optimizer, loss='binary_crossentropy', metrics=['accuracy'])\n",
    "# Batch Gradient Descent (BGD)\n",
    "history = model.fit(X_scaled, y, batch_size=X_scaled.shape[0], epochs=50, verbose=1, validation_split=0.2)\n",
    "# # Mini Batch Gradient Descent (MBGD)\n",
    "# history = model.fit(X_scaled, y, batch_size=32, epochs=50, verbose=1, validation_split=0.2)\n",
    "# # Stochastic Gradient Descent (SGD)\n",
    "# history = model.fit(X_scaled, y, batch_size=1, epochs=50, verbose=1, validation_split=0.2)"
   ]
  },
  {
   "cell_type": "code",
   "execution_count": 21,
   "metadata": {},
   "outputs": [
    {
     "data": {
      "text/plain": [
       "[<matplotlib.lines.Line2D at 0x7f2c5408ae50>]"
      ]
     },
     "execution_count": 21,
     "metadata": {},
     "output_type": "execute_result"
    },
    {
     "data": {
      "image/png": "[encoded data removed]",
      "text/plain": [
       "<Figure size 432x288 with 1 Axes>"
      ]
     },
     "metadata": {
      "needs_background": "light"
     },
     "output_type": "display_data"
    }
   ],
   "source": [
    "import matplotlib.pyplot as plt\n",
    "plt.plot(history.history['loss'])"
   ]
  },
  {
   "cell_type": "code",
   "execution_count": null,
   "metadata": {},
   "outputs": [],
   "source": []
  }
 ],
 "metadata": {
  "kernelspec": {
   "display_name": "myenv",
   "language": "python",
   "name": "python3"
  },
  "language_info": {
   "codemirror_mode": {
    "name": "ipython",
    "version": 3
   },
   "file_extension": ".py",
   "mimetype": "text/x-python",
   "name": "python",
   "nbconvert_exporter": "python",
   "pygments_lexer": "ipython3",
   "version": "3.7.10"
  },
  "orig_nbformat": 4
 },
 "nbformat": 4,
 "nbformat_minor": 2
}
