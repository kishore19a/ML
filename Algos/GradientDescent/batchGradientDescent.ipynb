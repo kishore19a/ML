{
 "cells": [
  {
   "cell_type": "code",
   "execution_count": 19,
   "metadata": {},
   "outputs": [
    {
     "name": "stdout",
     "output_type": "stream",
     "text": [
      "(353, 10)\n",
      "(89, 10)\n",
      "[ -17.28861055 -248.09227384  578.27576885  315.73426388 -571.26153162\n",
      "  292.37735682  -17.49345915  120.18091365  694.98671443  108.0529424 ]\n",
      "150.23369872381795\n",
      "R2 Score = 0.36701884576106214\n"
     ]
    }
   ],
   "source": [
    "# import diabetes dataset\n",
    "from sklearn.datasets import load_diabetes\n",
    "data = load_diabetes(as_frame=True)\n",
    "\n",
    "# extract X & y from diabetes data\n",
    "X = data.data\n",
    "y = data.target\n",
    "\n",
    "# Split data into training and testing dataset\n",
    "from sklearn.model_selection import train_test_split\n",
    "X_train, X_test, y_train, y_test = train_test_split(X, y, test_size=0.2, random_state=13)\n",
    "\n",
    "# Verify size of train/test data\n",
    "print(X_train.shape)\n",
    "print(X_test.shape)\n",
    "\n",
    "# Train SKLearn Linear Regression model\n",
    "from sklearn.linear_model import LinearRegression\n",
    "model = LinearRegression()\n",
    "\n",
    "# fit training data\n",
    "model.fit(X_train, y_train)\n",
    "\n",
    "# print model coefficients and intercept\n",
    "print(model.coef_)\n",
    "print(model.intercept_)\n",
    "\n",
    "# Calculate y_pred for test data\n",
    "y_pred = model.predict(X_test)\n",
    "\n",
    "# Calculate r2 score\n",
    "from sklearn.metrics import r2_score\n",
    "print('R2 Score =', r2_score(y_test, y_pred))\n"
   ]
  },
  {
   "cell_type": "code",
   "execution_count": 39,
   "metadata": {},
   "outputs": [],
   "source": [
    "# Create a class for batch gradient descent\n",
    "import numpy as np\n",
    "\n",
    "class GDRegressor:\n",
    "\n",
    "    def __init__(self) -> None:\n",
    "        intercept = None\n",
    "        coefficients = None\n",
    "\n",
    "    def fit(self, X_train, y_train, learning_rate=0.1, epochs=100):\n",
    "        self.intercept = 0\n",
    "        self.coefficients = np.ones(X_train.shape[1])\n",
    "\n",
    "        for i in range(epochs):\n",
    "            y_train_hat = self.intercept + np.dot(X_train, self.coefficients)\n",
    "            intercept_def = -2 * np.mean(y_train - y_train_hat)\n",
    "            self.intercept = self.intercept - learning_rate * intercept_def\n",
    "\n",
    "            coefficeints_def = -2 * np.dot(X_train.T, (y_train - y_train_hat)) / X_train.shape[0]\n",
    "            self.coefficients = self.coefficients - learning_rate * coefficeints_def\n",
    "\n",
    "        print('Intercept =', self.intercept)\n",
    "        print('Coefficents =', self.coefficients)\n",
    "\n",
    "    def predict(self, X_test, y_test):\n",
    "        y_pred = self.intercept + np.dot(X_test, self.coefficients)\n",
    "        print('R2 Score =', r2_score(y_test, y_pred))\n",
    "        return y_pred"
   ]
  },
  {
   "cell_type": "code",
   "execution_count": 40,
   "metadata": {},
   "outputs": [
    {
     "name": "stdout",
     "output_type": "stream",
     "text": [
      "Intercept = 150.32093097624633\n",
      "Coefficents = [ -13.8394822  -244.6172794   578.85852384  319.45587504  -57.8221844\n",
      " -131.94211134 -219.19814676  113.16275944  458.8683647   126.08022934]\n",
      "R2 Score = 0.3580676910315804\n"
     ]
    }
   ],
   "source": [
    "# Use GDRegressor\n",
    "\n",
    "gd = GDRegressor()\n",
    "gd.fit(X_train, y_train, 0.9, 1000)\n",
    "y_pred = gd.predict(X_test, y_test)"
   ]
  },
  {
   "cell_type": "code",
   "execution_count": null,
   "metadata": {},
   "outputs": [],
   "source": []
  }
 ],
 "metadata": {
  "kernelspec": {
   "display_name": "myenv",
   "language": "python",
   "name": "python3"
  },
  "language_info": {
   "codemirror_mode": {
    "name": "ipython",
    "version": 3
   },
   "file_extension": ".py",
   "mimetype": "text/x-python",
   "name": "python",
   "nbconvert_exporter": "python",
   "pygments_lexer": "ipython3",
   "version": "3.7.10"
  },
  "orig_nbformat": 4
 },
 "nbformat": 4,
 "nbformat_minor": 2
}
