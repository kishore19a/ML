{
 "cells": [
  {
   "cell_type": "code",
   "execution_count": 5,
   "metadata": {},
   "outputs": [
    {
     "name": "stdout",
     "output_type": "stream",
     "text": [
      "(353, 10)\n",
      "(89, 10)\n",
      "intercept =  151.88334520854633\n",
      "coefficients =  [  -9.16088483 -205.46225988  516.68462383  340.62734108 -895.54360867\n",
      "  561.21453306  153.88478595  126.73431596  861.12139955   52.41982836]\n",
      "Mean Squared Error =  3094.4295991207023\n",
      "Mean Absolute Error =  45.212924812996754\n",
      "R2 Score =  0.4399387660024645\n"
     ]
    }
   ],
   "source": [
    "# Train/Predict a multiple linear regression model using sklearn\n",
    "\n",
    "import numpy as np\n",
    "import pandas as pd\n",
    "\n",
    "# import diabetes dataset from sklearn\n",
    "from sklearn.datasets import load_diabetes\n",
    "\n",
    "# load the diabetes dataset\n",
    "diabetes = load_diabetes()\n",
    "\n",
    "# create a dataframe\n",
    "df = pd.DataFrame(diabetes.data, columns=diabetes.feature_names)\n",
    "\n",
    "# print the first 5 rows\n",
    "df.head()\n",
    "\n",
    "# add the target column\n",
    "df['target'] = diabetes.target\n",
    "\n",
    "# X = all colums except target\n",
    "X = df.drop('target', axis=1)\n",
    "\n",
    "# y = target column\n",
    "y = df['target']\n",
    "\n",
    "# split the data into train and test\n",
    "from sklearn.model_selection import train_test_split\n",
    "X_train, X_test, y_train, y_test = train_test_split(X, y, test_size=0.2, random_state=2)\n",
    "\n",
    "# print the shape of train and test\n",
    "print(X_train.shape)\n",
    "print(X_test.shape)\n",
    "\n",
    "# import LinearRegression from sklearn\n",
    "from sklearn.linear_model import LinearRegression\n",
    "\n",
    "# create an instance of LinearRegression\n",
    "model = LinearRegression()\n",
    "\n",
    "# fit the model\n",
    "model.fit(X_train, y_train)\n",
    "\n",
    "# print the intercept\n",
    "print(\"intercept = \", model.intercept_)\n",
    "\n",
    "# print the coefficients\n",
    "print(\"coefficients = \", model.coef_)\n",
    "\n",
    "# predict the target\n",
    "y_pred = model.predict(X_test)\n",
    "\n",
    "# Find the mean squared error, mean absolute error and r2 score\n",
    "from sklearn.metrics import mean_squared_error, mean_absolute_error, r2_score\n",
    "print(\"Mean Squared Error = \", mean_squared_error(y_test, y_pred))\n",
    "print(\"Mean Absolute Error = \", mean_absolute_error(y_test, y_pred))\n",
    "print(\"R2 Score = \", r2_score(y_test, y_pred))"
   ]
  },
  {
   "cell_type": "code",
   "execution_count": 40,
   "metadata": {},
   "outputs": [],
   "source": [
    "# Train/Predict a multiple linear regression model from scratch\n",
    "# Match the coefficients, intercept and error scores with sklearn\n",
    "\n",
    "class MultipleLinearRegression:\n",
    "    def __init__(self):\n",
    "        self.coefficients = None\n",
    "        self.intercept = None\n",
    "\n",
    "    def fit(self, X_train, y_train):\n",
    "        print(X_train.shape)\n",
    "        # add a column of ones to X_train\n",
    "        X_train = np.c_[np.ones(X_train.shape[0]), X_train]\n",
    "\n",
    "        # calculate the coefficients\n",
    "        self.coefficients = np.linalg.inv(X_train.T.dot(X_train)).dot(X_train.T).dot(y_train)\n",
    "\n",
    "        # calculate the intercept\n",
    "        self.intercept = self.coefficients[0]\n",
    "\n",
    "        # remove the first element from the coefficients\n",
    "        self.coefficients = self.coefficients[1:]\n",
    "\n",
    "        # print the intercept and coefficients\n",
    "        print(\"intercept = \", self.intercept)\n",
    "        print(\"coefficients = \", self.coefficients)\n",
    "\n",
    "    def predict(self, X_test):\n",
    "        # calculate the predicted target\n",
    "        y_pred = X_test.dot(self.coefficients) + self.intercept\n",
    "\n",
    "        return y_pred"
   ]
  },
  {
   "cell_type": "code",
   "execution_count": 41,
   "metadata": {},
   "outputs": [
    {
     "name": "stdout",
     "output_type": "stream",
     "text": [
      "(353, 10)\n",
      "intercept =  151.88334520854627\n",
      "coefficients =  [  -9.16088483 -205.46225988  516.68462383  340.62734108 -895.54360867\n",
      "  561.21453306  153.88478595  126.73431596  861.12139955   52.41982836]\n",
      "Mean Squared Error =  3094.4295991207023\n",
      "Mean Absolute Error =  45.21292481299675\n",
      "R2 Score =  0.4399387660024645\n"
     ]
    }
   ],
   "source": [
    "# create an instance of MultipleLinearRegression\n",
    "model = MultipleLinearRegression()\n",
    "\n",
    "# fit the model\n",
    "model.fit(X_train, y_train)\n",
    "\n",
    "# predict the target\n",
    "y_pred = model.predict(X_test)\n",
    "\n",
    "# Find the mean squared error, mean absolute error and r2 score\n",
    "from sklearn.metrics import mean_squared_error, mean_absolute_error, r2_score\n",
    "print(\"Mean Squared Error = \", mean_squared_error(y_test, y_pred))\n",
    "print(\"Mean Absolute Error = \", mean_absolute_error(y_test, y_pred))\n",
    "print(\"R2 Score = \", r2_score(y_test, y_pred))\n"
   ]
  },
  {
   "cell_type": "code",
   "execution_count": null,
   "metadata": {},
   "outputs": [],
   "source": []
  }
 ],
 "metadata": {
  "kernelspec": {
   "display_name": "myenv",
   "language": "python",
   "name": "python3"
  },
  "language_info": {
   "codemirror_mode": {
    "name": "ipython",
    "version": 3
   },
   "file_extension": ".py",
   "mimetype": "text/x-python",
   "name": "python",
   "nbconvert_exporter": "python",
   "pygments_lexer": "ipython3",
   "version": "3.7.10"
  },
  "orig_nbformat": 4
 },
 "nbformat": 4,
 "nbformat_minor": 2
}
